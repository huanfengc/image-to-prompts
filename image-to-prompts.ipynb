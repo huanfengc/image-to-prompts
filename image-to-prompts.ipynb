{
 "cells": [
  {
   "cell_type": "code",
   "execution_count": 1,
   "id": "8c586259",
   "metadata": {
    "_cell_guid": "b1076dfc-b9ad-4769-8c92-a6c4dae69d19",
    "_uuid": "8f2839f25d086af736a60e9eeb907d3b93b6e0e5",
    "execution": {
     "iopub.execute_input": "2023-02-16T01:13:36.777645Z",
     "iopub.status.busy": "2023-02-16T01:13:36.777254Z",
     "iopub.status.idle": "2023-02-16T01:13:36.783790Z",
     "shell.execute_reply": "2023-02-16T01:13:36.782700Z"
    },
    "papermill": {
     "duration": 0.013146,
     "end_time": "2023-02-16T01:13:36.786251",
     "exception": false,
     "start_time": "2023-02-16T01:13:36.773105",
     "status": "completed"
    },
    "tags": []
   },
   "outputs": [],
   "source": [
    "# This Python 3 environment comes with many helpful analytics libraries installed\n",
    "# It is defined by the kaggle/python Docker image: https://github.com/kaggle/docker-python\n",
    "# For example, here's several helpful packages to load\n",
    "\n",
    "#import numpy as np # linear algebra\n",
    "#import pandas as pd # data processing, CSV file I/O (e.g. pd.read_csv)\n",
    "\n",
    "# Input data files are available in the read-only \"../input/\" directory\n",
    "# For example, running this (by clicking run or pressing Shift+Enter) will list all files under the input directory\n",
    "\n",
    "#import os\n",
    "#for dirname, _, filenames in os.walk('/kaggle/input'):\n",
    "#    for filename in filenames:\n",
    "#        print(os.path.join(dirname, filename))\n",
    "\n",
    "# You can write up to 20GB to the current directory (/kaggle/working/) that gets preserved as output when you create a version using \"Save & Run All\" \n",
    "# You can also write temporary files to /kaggle/temp/, but they won't be saved outside of the current session"
   ]
  },
  {
   "cell_type": "code",
   "execution_count": 2,
   "id": "fd4e7593",
   "metadata": {
    "execution": {
     "iopub.execute_input": "2023-02-16T01:13:36.791949Z",
     "iopub.status.busy": "2023-02-16T01:13:36.791540Z",
     "iopub.status.idle": "2023-02-16T01:13:36.800942Z",
     "shell.execute_reply": "2023-02-16T01:13:36.799821Z"
    },
    "papermill": {
     "duration": 0.015105,
     "end_time": "2023-02-16T01:13:36.803382",
     "exception": false,
     "start_time": "2023-02-16T01:13:36.788277",
     "status": "completed"
    },
    "tags": []
   },
   "outputs": [],
   "source": [
    "import pandas as pd"
   ]
  },
  {
   "cell_type": "code",
   "execution_count": 3,
   "id": "cda39089",
   "metadata": {
    "execution": {
     "iopub.execute_input": "2023-02-16T01:13:36.808822Z",
     "iopub.status.busy": "2023-02-16T01:13:36.808524Z",
     "iopub.status.idle": "2023-02-16T01:13:36.825888Z",
     "shell.execute_reply": "2023-02-16T01:13:36.824364Z"
    },
    "papermill": {
     "duration": 0.022751,
     "end_time": "2023-02-16T01:13:36.828193",
     "exception": false,
     "start_time": "2023-02-16T01:13:36.805442",
     "status": "completed"
    },
    "tags": []
   },
   "outputs": [],
   "source": [
    "data = pd.read_csv(\"../input/stable-diffusion-image-to-prompts/prompts.csv\")"
   ]
  },
  {
   "cell_type": "code",
   "execution_count": 4,
   "id": "7bb3218c",
   "metadata": {
    "execution": {
     "iopub.execute_input": "2023-02-16T01:13:36.833636Z",
     "iopub.status.busy": "2023-02-16T01:13:36.833297Z",
     "iopub.status.idle": "2023-02-16T01:13:36.855898Z",
     "shell.execute_reply": "2023-02-16T01:13:36.854610Z"
    },
    "papermill": {
     "duration": 0.028475,
     "end_time": "2023-02-16T01:13:36.858671",
     "exception": false,
     "start_time": "2023-02-16T01:13:36.830196",
     "status": "completed"
    },
    "tags": []
   },
   "outputs": [
    {
     "data": {
      "text/html": [
       "<div>\n",
       "<style scoped>\n",
       "    .dataframe tbody tr th:only-of-type {\n",
       "        vertical-align: middle;\n",
       "    }\n",
       "\n",
       "    .dataframe tbody tr th {\n",
       "        vertical-align: top;\n",
       "    }\n",
       "\n",
       "    .dataframe thead th {\n",
       "        text-align: right;\n",
       "    }\n",
       "</style>\n",
       "<table border=\"1\" class=\"dataframe\">\n",
       "  <thead>\n",
       "    <tr style=\"text-align: right;\">\n",
       "      <th></th>\n",
       "      <th>imgId</th>\n",
       "      <th>prompt</th>\n",
       "    </tr>\n",
       "  </thead>\n",
       "  <tbody>\n",
       "    <tr>\n",
       "      <th>0</th>\n",
       "      <td>20057f34d</td>\n",
       "      <td>hyper realistic photo of very friendly and dys...</td>\n",
       "    </tr>\n",
       "    <tr>\n",
       "      <th>1</th>\n",
       "      <td>227ef0887</td>\n",
       "      <td>ramen carved out of fractal rose ebony, in the...</td>\n",
       "    </tr>\n",
       "    <tr>\n",
       "      <th>2</th>\n",
       "      <td>92e911621</td>\n",
       "      <td>ultrasaurus holding a black bean taco in the w...</td>\n",
       "    </tr>\n",
       "    <tr>\n",
       "      <th>3</th>\n",
       "      <td>a4e1c55a9</td>\n",
       "      <td>a thundering retro robot crane inks on parchme...</td>\n",
       "    </tr>\n",
       "    <tr>\n",
       "      <th>4</th>\n",
       "      <td>c98f79f71</td>\n",
       "      <td>portrait painting of a shimmering greek hero, ...</td>\n",
       "    </tr>\n",
       "  </tbody>\n",
       "</table>\n",
       "</div>"
      ],
      "text/plain": [
       "       imgId                                             prompt\n",
       "0  20057f34d  hyper realistic photo of very friendly and dys...\n",
       "1  227ef0887  ramen carved out of fractal rose ebony, in the...\n",
       "2  92e911621  ultrasaurus holding a black bean taco in the w...\n",
       "3  a4e1c55a9  a thundering retro robot crane inks on parchme...\n",
       "4  c98f79f71  portrait painting of a shimmering greek hero, ..."
      ]
     },
     "execution_count": 4,
     "metadata": {},
     "output_type": "execute_result"
    }
   ],
   "source": [
    "data.head()"
   ]
  },
  {
   "cell_type": "code",
   "execution_count": null,
   "id": "1782c96c",
   "metadata": {
    "papermill": {
     "duration": 0.001699,
     "end_time": "2023-02-16T01:13:36.862584",
     "exception": false,
     "start_time": "2023-02-16T01:13:36.860885",
     "status": "completed"
    },
    "tags": []
   },
   "outputs": [],
   "source": []
  }
 ],
 "metadata": {
  "kernelspec": {
   "display_name": "Python 3",
   "language": "python",
   "name": "python3"
  },
  "language_info": {
   "codemirror_mode": {
    "name": "ipython",
    "version": 3
   },
   "file_extension": ".py",
   "mimetype": "text/x-python",
   "name": "python",
   "nbconvert_exporter": "python",
   "pygments_lexer": "ipython3",
   "version": "3.7.12"
  },
  "papermill": {
   "default_parameters": {},
   "duration": 10.478794,
   "end_time": "2023-02-16T01:13:37.485561",
   "environment_variables": {},
   "exception": null,
   "input_path": "__notebook__.ipynb",
   "output_path": "__notebook__.ipynb",
   "parameters": {},
   "start_time": "2023-02-16T01:13:27.006767",
   "version": "2.3.4"
  }
 },
 "nbformat": 4,
 "nbformat_minor": 5
}
